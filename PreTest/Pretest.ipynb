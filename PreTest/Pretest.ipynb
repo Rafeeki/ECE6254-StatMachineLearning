{
 "cells": [
  {
   "cell_type": "code",
   "execution_count": 4,
   "metadata": {
    "collapsed": false
   },
   "outputs": [],
   "source": [
    "%matplotlib inline\n",
    "import sympy as sympy\n",
    "import numpy as np\n",
    "from scipy import *"
   ]
  },
  {
   "cell_type": "code",
   "execution_count": 80,
   "metadata": {
    "collapsed": false
   },
   "outputs": [
    {
     "name": "stdout",
     "output_type": "stream",
     "text": [
      "[[-2  2  2 -2  0]\n",
      " [-2  2  2 -2  0]\n",
      " [ 2 -2 -2  2  0]\n",
      " [ 0  0  0  0  2]\n",
      " [ 0  0  0  0  2]]\n"
     ]
    }
   ],
   "source": [
    "A = np.matrix([[-2, 2, 2, -2, 0],[-2, 2, 2, -2, 0], [2,-2,-2,2,0], [0,0,0,0,2], [0,0,0,0,2]])\n",
    "print(A)"
   ]
  },
  {
   "cell_type": "code",
   "execution_count": 81,
   "metadata": {
    "collapsed": false
   },
   "outputs": [
    {
     "name": "stdout",
     "output_type": "stream",
     "text": [
      "rank(A) = 2\n"
     ]
    }
   ],
   "source": [
    "# Problem 8a)\n",
    "r = np.linalg.matrix_rank(A)\n",
    "print(\"rank(A) = \" + str(r))"
   ]
  },
  {
   "cell_type": "code",
   "execution_count": 82,
   "metadata": {
    "collapsed": false
   },
   "outputs": [
    {
     "name": "stdout",
     "output_type": "stream",
     "text": [
      "('SVD Shapes = ', (5, 5), (5,), (5, 5))\n",
      "U = \n",
      "[[-0.57735027  0.          0.          0.57735027 -0.57735027]\n",
      " [-0.57735027  0.          0.          0.21132487  0.78867513]\n",
      " [ 0.57735027  0.          0.          0.78867513  0.21132487]\n",
      " [ 0.          0.70710678 -0.70710678  0.          0.        ]\n",
      " [ 0.          0.70710678  0.70710678  0.          0.        ]]\n",
      "S = \n",
      "[[ 6.93  0.    0.    0.    0.  ]\n",
      " [ 0.    2.83  0.    0.    0.  ]\n",
      " [ 0.    0.    0.    0.    0.  ]\n",
      " [ 0.    0.    0.    0.    0.  ]\n",
      " [ 0.    0.    0.    0.    0.  ]]\n",
      "V' = \n",
      "[[ 0.5        -0.5        -0.5         0.5         0.        ]\n",
      " [ 0.          0.          0.          0.          1.        ]\n",
      " [ 0.         -0.57735027 -0.21132487 -0.78867513  0.        ]\n",
      " [ 0.         -0.57735027  0.78867513  0.21132487  0.        ]\n",
      " [-0.8660254  -0.28867513 -0.28867513  0.28867513  0.        ]]\n"
     ]
    }
   ],
   "source": [
    "# Problem 8b)\n",
    "u, s, v = np.linalg.svd(A,full_matrices=True)\n",
    "print(\"SVD Shapes = \", u.shape, s.shape, v.shape)\n",
    "print(\"U = \")\n",
    "print(u)\n",
    "print(\"S = \")\n",
    "S = np.zeros((5,5))\n",
    "S[:5,:5] = np.diag(s)\n",
    "print(S.round(2))\n",
    "print(\"V' = \")\n",
    "print(v)"
   ]
  },
  {
   "cell_type": "code",
   "execution_count": 83,
   "metadata": {
    "collapsed": false
   },
   "outputs": [
    {
     "name": "stdout",
     "output_type": "stream",
     "text": [
      "Check U'U = I\n",
      "[[ 1.  0.  0.  0. -0.]\n",
      " [ 0.  1.  0.  0.  0.]\n",
      " [ 0.  0.  1.  0.  0.]\n",
      " [ 0.  0.  0.  1.  0.]\n",
      " [-0.  0.  0.  0.  1.]]\n",
      "Check V'V = I\n",
      "[[ 1.  0. -0.  0. -0.]\n",
      " [ 0.  1.  0.  0.  0.]\n",
      " [-0.  0.  1. -0. -0.]\n",
      " [ 0.  0. -0.  1.  0.]\n",
      " [-0.  0. -0.  0.  1.]]\n",
      "Reconstruct A = U*S*V'\n",
      "[[-2.  2.  2. -2.  0.]\n",
      " [-2.  2.  2. -2.  0.]\n",
      " [ 2. -2. -2.  2.  0.]\n",
      " [ 0.  0.  0.  0.  2.]\n",
      " [ 0.  0.  0.  0.  2.]]\n"
     ]
    }
   ],
   "source": [
    "# Problem 8b)\n",
    "U = u.transpose()*u\n",
    "print(\"Check U'U = I\")\n",
    "print(U.round(2))\n",
    "V = v*v.transpose()\n",
    "print(\"Check V'V = I\")\n",
    "print(V.round(2))\n",
    "print(\"Reconstruct A = U*S*V'\")\n",
    "print(u*S*v)"
   ]
  },
  {
   "cell_type": "code",
   "execution_count": 90,
   "metadata": {
    "collapsed": false
   },
   "outputs": [
    {
     "data": {
      "text/plain": [
       "(Matrix([\n",
       " [1, -1, -1, 1, 0],\n",
       " [0,  0,  0, 0, 1],\n",
       " [0,  0,  0, 0, 0],\n",
       " [0,  0,  0, 0, 0],\n",
       " [0,  0,  0, 0, 0]]), [0, 4])"
      ]
     },
     "execution_count": 90,
     "metadata": {},
     "output_type": "execute_result"
    }
   ],
   "source": [
    "M = sympy.Matrix([[-2, 2, 2, -2, 0],[-2, 2, 2, -2, 0], [2,-2,-2,2,0], [0,0,0,0,2], [0,0,0,0,2]])\n",
    "M.rref()\n",
    "#R = np.ptp(A,axis = 1)\n",
    "#print(\"Range(A) = \")\n",
    "#print(R)\n",
    "#Rp = np.ptp(A.transpose(),axis = 1)\n",
    "#print(\"Range(A') = \")\n",
    "#print(Rp)"
   ]
  },
  {
   "cell_type": "code",
   "execution_count": 91,
   "metadata": {
    "collapsed": false
   },
   "outputs": [
    {
     "data": {
      "text/plain": [
       "(Matrix([\n",
       " [1, 1, -1, 0, 0],\n",
       " [0, 0,  0, 1, 1],\n",
       " [0, 0,  0, 0, 0],\n",
       " [0, 0,  0, 0, 0],\n",
       " [0, 0,  0, 0, 0]]), [0, 3])"
      ]
     },
     "execution_count": 91,
     "metadata": {},
     "output_type": "execute_result"
    }
   ],
   "source": [
    "Mp = sympy.Matrix([[-2, 2, 2, -2, 0],[-2, 2, 2, -2, 0], [2,-2,-2,2,0], [0,0,0,0,2], [0,0,0,0,2]]).transpose()\n",
    "Mp.rref()"
   ]
  },
  {
   "cell_type": "code",
   "execution_count": 123,
   "metadata": {
    "collapsed": false
   },
   "outputs": [
    {
     "name": "stdout",
     "output_type": "stream",
     "text": [
      "X = \n",
      "[[1]\n",
      " [2]\n",
      " [3]\n",
      " [7]]\n",
      "P = \n",
      "[[ 1  4  3]\n",
      " [ 2 -2  4]\n",
      " [ 3 -6 -2]\n",
      " [ 4 -7  1]]\n",
      "X* = \n",
      "[[ 8]\n",
      " [ 4]\n",
      " [-5]\n",
      " [-2]]\n",
      "Therefore, x_e = \n",
      "[[-7]\n",
      " [-2]\n",
      " [ 8]\n",
      " [ 9]]\n"
     ]
    }
   ],
   "source": [
    "#Problem 10\n",
    "x = np.array([1, 2, 3, 7])\n",
    "x.shape = (4,1)\n",
    "print(\"X = \")\n",
    "print(x)\n",
    "p1 = np.array([1, 2, 3, 4])\n",
    "p1.shape = (4, 1)\n",
    "p2 = np.array([4, -2, -6, -7])\n",
    "p2.shape = (4, 1)\n",
    "p3 = np.array([3, 4, -2, 1])\n",
    "p3.shape = (4, 1)\n",
    "P = np.column_stack((p1, p2, p3))\n",
    "print(\"P = \")\n",
    "print(P)\n",
    "a1 = 1\n",
    "a2 = 1\n",
    "a3 = 1\n",
    "xs = a1*p1 + a2*p2 + a3*p3\n",
    "print(\"X* = \")\n",
    "print(xs)\n",
    "xe = x - xs\n",
    "print(\"Therefore, x_e = \")\n",
    "print(xe)"
   ]
  },
  {
   "cell_type": "code",
   "execution_count": null,
   "metadata": {
    "collapsed": true
   },
   "outputs": [],
   "source": []
  },
  {
   "cell_type": "code",
   "execution_count": null,
   "metadata": {
    "collapsed": true
   },
   "outputs": [],
   "source": []
  }
 ],
 "metadata": {
  "anaconda-cloud": {},
  "kernelspec": {
   "display_name": "Python [default]",
   "language": "python",
   "name": "python2"
  },
  "language_info": {
   "codemirror_mode": {
    "name": "ipython",
    "version": 2
   },
   "file_extension": ".py",
   "mimetype": "text/x-python",
   "name": "python",
   "nbconvert_exporter": "python",
   "pygments_lexer": "ipython2",
   "version": "2.7.12"
  }
 },
 "nbformat": 4,
 "nbformat_minor": 1
}
