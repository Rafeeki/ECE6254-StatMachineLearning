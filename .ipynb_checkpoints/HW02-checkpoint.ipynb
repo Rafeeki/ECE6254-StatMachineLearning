{
 "cells": [
  {
   "cell_type": "code",
   "execution_count": 117,
   "metadata": {
    "collapsed": false
   },
   "outputs": [],
   "source": [
    "import numpy as np\n",
    "import json\n",
    "from sklearn.feature_extraction import text"
   ]
  },
  {
   "cell_type": "code",
   "execution_count": 118,
   "metadata": {
    "collapsed": true
   },
   "outputs": [],
   "source": [
    "x = open('fedpapers_split.txt').read()\n",
    "papers = json.loads(x)"
   ]
  },
  {
   "cell_type": "code",
   "execution_count": 119,
   "metadata": {
    "collapsed": false
   },
   "outputs": [
    {
     "name": "stdout",
     "output_type": "stream",
     "text": [
      "nH = 51, nM = 17, nD = 12\n"
     ]
    }
   ],
   "source": [
    "papersH = papers[0]\n",
    "papersM = papers[1]\n",
    "papersD = papers[2]\n",
    "nH, nM, nD = len(papersH), len(papersM), len(papersD)\n",
    "print \"nH = %d, nM = %d, nD = %d\" % (nH, nM, nD)"
   ]
  },
  {
   "cell_type": "code",
   "execution_count": 120,
   "metadata": {
    "collapsed": false,
    "scrolled": true
   },
   "outputs": [],
   "source": [
    "stop_words = text.ENGLISH_STOP_WORDS.union({'HAMILTON','MADISON'})\n",
    "vectorizer = text.CountVectorizer(stop_words,min_df=10)\n",
    "X = vectorizer.fit_transform(papersH+papersM+papersD).toarray()\n",
    "#vectorizer.vocabulary_"
   ]
  },
  {
   "cell_type": "code",
   "execution_count": 121,
   "metadata": {
    "collapsed": false
   },
   "outputs": [
    {
     "name": "stdout",
     "output_type": "stream",
     "text": [
      "XH = 51 X 1515, XM = 17 X 1515, XD = 12 X 1515\n"
     ]
    }
   ],
   "source": [
    "XH, XM, XD = X[:nH,:], X[nH:nH+nM,:], X[nH+nM:,:]\n",
    "print \"XH = %d X %d, XM = %d X %d, XD = %d X %d\" % (len(XH),len(XH[0]),len(XM),len(XM[0]),len(XD),len(XD[0]))"
   ]
  },
  {
   "cell_type": "code",
   "execution_count": 122,
   "metadata": {
    "collapsed": false,
    "scrolled": true
   },
   "outputs": [
    {
     "name": "stdout",
     "output_type": "stream",
     "text": [
      "End fH, with mean = 0.000198\n",
      "End fM, with mean = 0.000169\n",
      "[ 1.16899041  1.03860302  4.90975972 ...,  0.92057995  1.66138334\n",
      "  0.48353694]\n"
     ]
    }
   ],
   "source": [
    "# Initialize vectors for P(word_j | H/M) as total occurence of a word for an other divided by total words \n",
    "fH = np.ones(len(XH[0]))\n",
    "totH = len(XH[0])\n",
    "fM = np.ones(len(XM[0]))\n",
    "totM = len(XM[0])\n",
    "\n",
    "for i in range(0,len(XH[0])):\n",
    "    for j in range(0,len(XH)):\n",
    "        fH[i] = float(fH[i])+XH[j][i]\n",
    "    totH = totH + fH[i]\n",
    "fH = fH/totH\n",
    "print \"End fH, with mean = %.6f\" % fH[0]\n",
    "\n",
    "for i in range(0,len(XM[0])):\n",
    "    for j in range(0,len(XM)):\n",
    "        fM[i] = fM[i]+XM[j][i]\n",
    "    totM = totM + fM[i]\n",
    "fM = fM/totM\n",
    "print \"End fM, with mean = %.6f\" % fM[0]\n",
    "\n",
    "fratio = fH/fM\n",
    "print fratio"
   ]
  },
  {
   "cell_type": "code",
   "execution_count": 123,
   "metadata": {
    "collapsed": false
   },
   "outputs": [
    {
     "name": "stdout",
     "output_type": "stream",
     "text": [
      "piH = 0.750000, piM = 0.250000\n"
     ]
    }
   ],
   "source": [
    "# Compute prior probabilities \n",
    "piH = float(nH)/(nH+nM)\n",
    "piM = float(nM)/(nH+nM)\n",
    "print \"piH = %.6f, piM = %.6f\" % (piH, piM)"
   ]
  },
  {
   "cell_type": "code",
   "execution_count": 124,
   "metadata": {
    "collapsed": false
   },
   "outputs": [
    {
     "name": "stdout",
     "output_type": "stream",
     "text": [
      "Madison\n",
      "Madison\n",
      "Madison\n",
      "Madison\n",
      "Hamilton\n",
      "Hamilton\n",
      "Hamilton\n",
      "Hamilton\n",
      "Hamilton\n",
      "Madison\n",
      "Madison\n",
      "Madison\n",
      "Hamilton wrote 56 total, and 5 of the disputed.\n",
      "Madison wrote 24 total, and 7 of the disputed.\n"
     ]
    }
   ],
   "source": [
    "Ham_tot = nH\n",
    "Mad_tot = nM\n",
    "for xd in XD: # Iterate over disputed documents\n",
    "    rat = 1\n",
    "    # Compute likelihood ratio for Naive Bayes model\n",
    "    for j in range(0,len(xd)):\n",
    "        rat = rat*(fratio[j])**xd[j]\n",
    "        \n",
    "    LR = (piH/piM)*rat\n",
    "    if LR>1:\n",
    "        print 'Hamilton'\n",
    "        Ham_tot=Ham_tot+1\n",
    "    else:\n",
    "        print 'Madison'\n",
    "        Mad_tot=Mad_tot+1\n",
    "print \"Hamilton wrote %d total, and %d of the disputed.\" % (Ham_tot, Ham_tot-nH)\n",
    "print \"Madison wrote %d total, and %d of the disputed.\" % (Mad_tot, Mad_tot-nM)"
   ]
  },
  {
   "cell_type": "code",
   "execution_count": 125,
   "metadata": {
    "collapsed": false
   },
   "outputs": [
    {
     "name": "stdout",
     "output_type": "stream",
     "text": [
      "Madison\n",
      "Madison\n",
      "Madison\n",
      "Madison\n",
      "Madison\n",
      "Madison\n",
      "Madison\n",
      "Madison\n",
      "Madison\n",
      "Madison\n",
      "Madison\n",
      "Madison\n",
      "Hamilton wrote 51 total, and 0 of the disputed.\n",
      "Madison wrote 29 total, and 12 of the disputed.\n"
     ]
    },
    {
     "name": "stderr",
     "output_type": "stream",
     "text": [
      "fedpapers.py:55: RuntimeWarning: divide by zero encountered in divide\n",
      "  fratio = fH/fM\n",
      "fedpapers.py:67: RuntimeWarning: invalid value encountered in double_scalars\n",
      "  rat = rat*(fratio[j])**xd[j]\n"
     ]
    }
   ],
   "source": [
    "%run fedpapers.py"
   ]
  },
  {
   "cell_type": "code",
   "execution_count": null,
   "metadata": {
    "collapsed": true
   },
   "outputs": [],
   "source": []
  }
 ],
 "metadata": {
  "anaconda-cloud": {},
  "kernelspec": {
   "display_name": "Python [default]",
   "language": "python",
   "name": "python2"
  },
  "language_info": {
   "codemirror_mode": {
    "name": "ipython",
    "version": 2
   },
   "file_extension": ".py",
   "mimetype": "text/x-python",
   "name": "python",
   "nbconvert_exporter": "python",
   "pygments_lexer": "ipython2",
   "version": "2.7.12"
  }
 },
 "nbformat": 4,
 "nbformat_minor": 2
}
