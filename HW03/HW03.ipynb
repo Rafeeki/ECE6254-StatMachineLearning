{
 "cells": [
  {
   "cell_type": "code",
   "execution_count": 1,
   "metadata": {
    "collapsed": false
   },
   "outputs": [],
   "source": [
    "# Problem 3: set-up\n",
    "from sklearn.datasets import fetch_mldata\n",
    "mnist = fetch_mldata('MNIST original')"
   ]
  },
  {
   "cell_type": "code",
   "execution_count": 2,
   "metadata": {
    "collapsed": false
   },
   "outputs": [
    {
     "data": {
      "image/png": "[encoded data removed]",
      "text/plain": [
       "<matplotlib.figure.Figure at 0x835b4e0>"
      ]
     },
     "metadata": {},
     "output_type": "display_data"
    },
    {
     "name": "stdout",
     "output_type": "stream",
     "text": [
      "X is 70000 x 784 and Y is 70000 x 1\n"
     ]
    }
   ],
   "source": [
    "# Problem 3: put data into more convenient form and plot test image\n",
    "X = mnist.data\n",
    "y = mnist.target\n",
    "import matplotlib.pyplot as plt\n",
    "plt.title('The 3rd image is a {label}'.format(label=int(y[2])))\n",
    "plt.imshow(X[2].reshape((28,28)),cmap='gray')\n",
    "plt.show()\n",
    "print(\"X is %d x %d and Y is %d x %x\" % (len(X),len(X[0]),len(y),1))"
   ]
  },
  {
   "cell_type": "code",
   "execution_count": 40,
   "metadata": {
    "collapsed": false
   },
   "outputs": [
    {
     "name": "stdout",
     "output_type": "stream",
     "text": [
      "X4 has 6824 examples, and X9 has 6958, so total = 13782\n",
      "y4 has 6824 examples, and y9 has 6958, so total = 13782\n",
      "Xfit = 4000, yfit = 4000\n",
      "Xholdout = 4000, yholdout = 4000\n",
      "Xtest = 5782, ytest = 5782\n",
      "Xtotal = 13782, ytotal = 13782\n"
     ]
    }
   ],
   "source": [
    "# Problem 3: build classifier to classify between the images of the digits 4 & 9\n",
    "import numpy as np\n",
    "import random\n",
    "X4 = X[y==4,:]\n",
    "y4 = y[y==4]\n",
    "X9 = X[y==9,:]\n",
    "y9 = y[y==9]\n",
    "#print(\"X4 has %d examples, and X9 has %d, so total = %d\" % (len(X4),len(X9),len(X4)+len(X9)))\n",
    "#print(\"y4 has %d examples, and y9 has %d, so total = %d\" % (len(y4),len(y9),len(y4)+len(y9)))\n",
    "Xfit = np.concatenate((X4[0:2000],X9[0:2000]),axis=0)\n",
    "yfit = np.concatenate((y4[0:2000],y9[0:2000]),axis=0)\n",
    "#print(\"Xfit = %d, yfit = %d\" % (len(Xfit),len(yfit)))\n",
    "Xholdout = np.concatenate((X4[2000:4000],X9[2000:4000]),axis=0)\n",
    "yholdout = np.concatenate((y4[2000:4000],y9[2000:4000]),axis=0)\n",
    "#print(\"Xholdout = %d, yholdout = %d\" % (len(Xholdout),len(yholdout)))\n",
    "Xtest = np.concatenate((X4[4000:],X9[4000:]),axis=0)\n",
    "ytest = np.concatenate((y4[4000:],y9[4000:]),axis=0)\n",
    "#print(\"Xtest = %d, ytest = %d\" % (len(Xtest),len(ytest)))\n",
    "#print(\"Xtotal = %d, ytotal = %d\" % (len(Xfit)+len(Xholdout)+len(Xtest),len(yfit)+len(yholdout)+len(ytest)))"
   ]
  },
  {
   "cell_type": "code",
   "execution_count": 41,
   "metadata": {
    "collapsed": false
   },
   "outputs": [
    {
     "name": "stdout",
     "output_type": "stream",
     "text": [
      "Probability of error for classifier = 0.000000\n"
     ]
    }
   ],
   "source": [
    "# Problem 3: Use built in solver to train a linear SVM on full dataset\n",
    "import numpy as np\n",
    "from sklearn import svm\n",
    "clf = svm.SVC(C=1,kernel='linear')\n",
    "#u = X4_train\n",
    "#v = 4*np.ones(len(X4_train))\n",
    "#clf.fit(u,v)\n",
    "clf.fit(Xfit,yfit)\n",
    "Pe = 1 - clf.score(Xfit,yfit)\n",
    "print(\"Probability of error for classifier = %.6f\" % Pe)"
   ]
  },
  {
   "cell_type": "code",
   "execution_count": null,
   "metadata": {
    "collapsed": true
   },
   "outputs": [],
   "source": [
    "# Problem 3a: Train an SVM using inhomogeneous linear and quadratic kernel. Report best C value, test error & # of support vectors\n",
    "clfa1 = svm.SVC(C = ??, kernel='poly', degree=1)\n"
   ]
  }
 ],
 "metadata": {
  "kernelspec": {
   "display_name": "Python 2",
   "language": "python",
   "name": "python2"
  },
  "language_info": {
   "codemirror_mode": {
    "name": "ipython",
    "version": 2
   },
   "file_extension": ".py",
   "mimetype": "text/x-python",
   "name": "python",
   "nbconvert_exporter": "python",
   "pygments_lexer": "ipython2",
   "version": "2.7.13"
  }
 },
 "nbformat": 4,
 "nbformat_minor": 2
}
