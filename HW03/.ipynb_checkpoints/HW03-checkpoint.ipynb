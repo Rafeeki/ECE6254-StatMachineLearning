{
 "cells": [
  {
   "cell_type": "code",
   "execution_count": 4,
   "metadata": {
    "collapsed": false
   },
   "outputs": [],
   "source": [
    "# Problem 3: set-up\n",
    "from sklearn.datasets import fetch_mldata\n",
    "mnist = fetch_mldata('MNIST original')"
   ]
  },
  {
   "cell_type": "code",
   "execution_count": null,
   "metadata": {
    "collapsed": false
   },
   "outputs": [],
   "source": [
    "# Problem 3: put data into more convenient form and plot test image\n",
    "X = mnist.data\n",
    "y = mnist.target\n",
    "import matplotlib.pyplot as plt\n",
    "plt.title('The 3rd image is a {label}'.format(label=int(y[2])))\n",
    "plt.imshow(X[2].reshape((28,28)),cmap='gray')\n",
    "plt.show()\n",
    "print(len(y))"
   ]
  },
  {
   "cell_type": "code",
   "execution_count": 18,
   "metadata": {
    "collapsed": false
   },
   "outputs": [
    {
     "name": "stdout",
     "output_type": "stream",
     "text": [
      "X4 has 6824 examples, and X9 has 6958\n",
      "Train arrays have 4000 examples, and X9_test has 2957\n"
     ]
    }
   ],
   "source": [
    "# Problem 3: build classifier to classify between the images of the digits 4 & 9\n",
    "X4 = X[y==4,:]\n",
    "X9 = X[y==9,:]\n",
    "print(\"X4 has %d examples, and X9 has %d\" % (len(X4),len(X9)))\n",
    "X4_train = X4[0:4000]\n",
    "X4_test = X4[4001:]\n",
    "X9_train = X9[0:4000]\n",
    "X9_test = X9[4001:]\n",
    "print(\"Train arrays have %d examples, and X9_test has %d\" % (len(X4_train),len(X9_test)))"
   ]
  },
  {
   "cell_type": "code",
   "execution_count": null,
   "metadata": {
    "collapsed": true
   },
   "outputs": [],
   "source": [
    "# Problem 3: Use built in solver to train a linear SVM on full dataset\n",
    "from sklearn import svm\n",
    "clf = svm.SVC(C=1,kernel='linear')\n",
    "clf.fit(X,y)\n",
    "Pe = 1 - clf.score(X,y)\n",
    "print(\"Probability of error for classifier = %.6f\" % Pe)"
   ]
  },
  {
   "cell_type": "code",
   "execution_count": null,
   "metadata": {
    "collapsed": true
   },
   "outputs": [],
   "source": [
    "# Problem 3: Use built in solver to train a linear SVM on full dataset\n",
    "from sklearn import svm\n",
    "clf1 = svm.SVC(C=1,kernel='linear')\n",
    "u = X4_train[0:2000]\n",
    "clf1.fit(u,y)\n",
    "Pe = 1 - clf1.score(X,y)\n",
    "print(\"Probability of error for classifier = %.6f\" % Pe)"
   ]
  }
 ],
 "metadata": {
  "kernelspec": {
   "display_name": "Python 2",
   "language": "python",
   "name": "python2"
  },
  "language_info": {
   "codemirror_mode": {
    "name": "ipython",
    "version": 2
   },
   "file_extension": ".py",
   "mimetype": "text/x-python",
   "name": "python",
   "nbconvert_exporter": "python",
   "pygments_lexer": "ipython2",
   "version": "2.7.13"
  }
 },
 "nbformat": 4,
 "nbformat_minor": 2
}
