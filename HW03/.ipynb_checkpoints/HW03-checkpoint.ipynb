{
 "cells": [
  {
   "cell_type": "code",
   "execution_count": 49,
   "metadata": {
    "collapsed": false
   },
   "outputs": [],
   "source": [
    "# Problem 3: set-up\n",
    "from sklearn.datasets import fetch_mldata\n",
    "import numpy as np\n",
    "from sklearn import svm\n",
    "import math\n",
    "mnist = fetch_mldata('MNIST original')"
   ]
  },
  {
   "cell_type": "code",
   "execution_count": 50,
   "metadata": {
    "collapsed": false
   },
   "outputs": [
    {
     "data": {
      "image/png": "[encoded data removed]",
      "text/plain": [
       "<matplotlib.figure.Figure at 0xaddf53ec>"
      ]
     },
     "metadata": {},
     "output_type": "display_data"
    },
    {
     "name": "stdout",
     "output_type": "stream",
     "text": [
      "X is 70000 x 784 and Y is 70000 x 1\n"
     ]
    }
   ],
   "source": [
    "# Problem 3: put data into more convenient form and plot test image\n",
    "X = mnist.data\n",
    "y = mnist.target\n",
    "import matplotlib.pyplot as plt\n",
    "plt.title('The 3rd image is a {label}'.format(label=int(y[2])))\n",
    "plt.imshow(X[2].reshape((28,28)),cmap='gray')\n",
    "plt.show()\n",
    "print(\"X is %d x %d and Y is %d x %x\" % (len(X),len(X[0]),len(y),1))"
   ]
  },
  {
   "cell_type": "code",
   "execution_count": 51,
   "metadata": {
    "collapsed": false
   },
   "outputs": [],
   "source": [
    "# Problem 3: build training & testing sets to classify between the images of the digits 4 & 9\n",
    "# Separate training set into fit & holdout sets to choose best SVM parameter C\n",
    "import numpy as np\n",
    "import random\n",
    "X4 = X[y==4,:]\n",
    "y4 = y[y==4]\n",
    "X9 = X[y==9,:]\n",
    "y9 = y[y==9]\n",
    "Xfit = np.concatenate((X4[0:2000],X9[0:2000]),axis=0)\n",
    "yfit = np.concatenate((y4[0:2000],y9[0:2000]),axis=0)\n",
    "Xholdout = np.concatenate((X4[2000:4000],X9[2000:4000]),axis=0)\n",
    "yholdout = np.concatenate((y4[2000:4000],y9[2000:4000]),axis=0)\n",
    "Xtest = np.concatenate((X4[4000:],X9[4000:]),axis=0)\n",
    "ytest = np.concatenate((y4[4000:],y9[4000:]),axis=0)"
   ]
  },
  {
   "cell_type": "code",
   "execution_count": 52,
   "metadata": {
    "collapsed": false
   },
   "outputs": [
    {
     "name": "stdout",
     "output_type": "stream",
     "text": [
      "C = 0.000010 and Pe = 0.055000\n",
      "C = 0.000100 and Pe = 0.039250\n",
      "C = 0.001000 and Pe = 0.033000\n",
      "C = 0.010000 and Pe = 0.036250\n",
      "C = 0.100000 and Pe = 0.047750\n",
      "C = 1.000000 and Pe = 0.047750\n",
      "C = 10.000000 and Pe = 0.047750\n",
      "C = 100.000000 and Pe = 0.047750\n",
      "C = 1000.000000 and Pe = 0.047750\n",
      "C = 10000.000000 and Pe = 0.047750\n",
      "C = 100000.000000 and Pe = 0.047750\n"
     ]
    }
   ],
   "source": [
    "# Problem 3a: Use built in solver to find best C parameter for poly 1st degree SVM on training dataset\n",
    "# First choose range of C's to test, train each C on Xfit/yfit\n",
    "X = np.linspace(-5,5,11)\n",
    "C = 10**X\n",
    "Pe = np.zeros(len(C))\n",
    "for i in range(0,len(C)):\n",
    "    clf = svm.SVC(C[i],kernel='poly',degree=1)\n",
    "    clf.fit(Xfit,yfit)\n",
    "    Pe[i]=1-clf.score(Xholdout,yholdout)\n",
    "    print(\"C = %.6f and Pe = %.6f\" % (C[i],Pe[i]))"
   ]
  },
  {
   "cell_type": "code",
   "execution_count": 55,
   "metadata": {
    "collapsed": false
   },
   "outputs": [
    {
     "name": "stdout",
     "output_type": "stream",
     "text": [
      "C = 0.000100 and Pe = 0.039250\n",
      "C = 0.000158 and Pe = 0.037750\n",
      "C = 0.000251 and Pe = 0.036250\n",
      "C = 0.000398 and Pe = 0.034500\n",
      "C = 0.000631 and Pe = 0.033500\n",
      "C = 0.001000 and Pe = 0.033000\n",
      "C = 0.001585 and Pe = 0.033750\n",
      "C = 0.002512 and Pe = 0.034500\n",
      "C = 0.003981 and Pe = 0.033500\n",
      "C = 0.006310 and Pe = 0.033250\n",
      "C = 0.010000 and Pe = 0.036250\n"
     ]
    }
   ],
   "source": [
    "# Problem 3a: Train an SVM using inhomogeneous linear and quadratic kernel. Report best C value, test error & # of support vectors\n",
    "Cmin = C[np.argmin(Pe)]\n",
    "R_Cmin = math.log(Cmin,10)\n",
    "X1 = np.linspace(R_Cmin-1,R_Cmin+1,11)\n",
    "C1 = 10**X1\n",
    "Pe1 = np.zeros(len(C1))\n",
    "for i in range(0,len(C1)):\n",
    "    clf = svm.SVC(C1[i],kernel='poly',degree=1)\n",
    "    clf.fit(Xfit,yfit)\n",
    "    Pe1[i]=1-clf.score(Xholdout,yholdout)\n",
    "    print(\"C = %.6f and Pe = %.6f\" % (C1[i],Pe1[i]))"
   ]
  },
  {
   "cell_type": "code",
   "execution_count": 57,
   "metadata": {
    "collapsed": false
   },
   "outputs": [
    {
     "name": "stdout",
     "output_type": "stream",
     "text": [
      "C = 0.000794 and Pe = 0.033750\n",
      "C = 0.000832 and Pe = 0.033500\n",
      "C = 0.000871 and Pe = 0.033500\n",
      "C = 0.000912 and Pe = 0.033500\n",
      "C = 0.000955 and Pe = 0.032750\n",
      "C = 0.001000 and Pe = 0.033000\n",
      "C = 0.001047 and Pe = 0.032250\n",
      "C = 0.001096 and Pe = 0.032500\n",
      "C = 0.001148 and Pe = 0.032500\n",
      "C = 0.001202 and Pe = 0.033250\n",
      "C = 0.001259 and Pe = 0.033500\n"
     ]
    }
   ],
   "source": [
    "C1min = C1[np.argmin(Pe1)]\n",
    "R_C1min = math.log(C1min,10)\n",
    "X2 = np.linspace(R_C1min-.1,R_C1min+.1,11)\n",
    "C2 = 10**X2\n",
    "Pe2 = np.zeros(len(C2))\n",
    "for i in range(len(C2)):\n",
    "    clf = svm.SVC(C2[i],kernel='poly',degree=1)\n",
    "    clf.fit(Xfit,yfit)\n",
    "    Pe2[i]=1-clf.score(Xholdout,yholdout)\n",
    "    print(\"C = %.6f and Pe = %.6f\" % (C2[i],Pe2[i]))"
   ]
  },
  {
   "cell_type": "code",
   "execution_count": 65,
   "metadata": {
    "collapsed": false,
    "scrolled": true
   },
   "outputs": [
    {
     "name": "stdout",
     "output_type": "stream",
     "text": [
      "Best C = 0.0010, where test error = 0.0330 and support vectors = (457, 784)\n"
     ]
    }
   ],
   "source": [
    "C2min = C2[np.argmin(Pe1)]\n",
    "clf = svm.SVC(C2min,kernel='poly',degree=1)\n",
    "clf.fit(Xfit,yfit)\n",
    "Pe_fin = 1-clf.score(Xholdout,yholdout)\n",
    "print(\"Best C = %.4f, where test error = %.4f and support vectors = %s\" % (C2min, Pe_fin, clf.support_vectors_.shape))"
   ]
  },
  {
   "cell_type": "code",
   "execution_count": 81,
   "metadata": {
    "collapsed": false,
    "scrolled": true
   },
   "outputs": [
    {
     "data": {
      "image/png": "[encoded data removed]",
      "text/plain": [
       "<matplotlib.figure.Figure at 0xac5acf6c>"
      ]
     },
     "metadata": {},
     "output_type": "display_data"
    },
    {
     "name": "stdout",
     "output_type": "stream",
     "text": [
      "X is 70000 x 784 and Y is 70000 x 1\n",
      "Deg = 1, Spread = 10.0, C = 0.000010, Pe = 0.055000\n",
      "Deg = 1, Spread = 10.0, C = 0.000100, Pe = 0.039250\n",
      "Deg = 1, Spread = 10.0, C = 0.001000, Pe = 0.033000\n",
      "Deg = 1, Spread = 10.0, C = 0.010000, Pe = 0.036250\n",
      "Deg = 1, Spread = 10.0, C = 0.100000, Pe = 0.047750\n",
      "Deg = 1, Spread = 10.0, C = 1.000000, Pe = 0.047750\n",
      "Deg = 1, Spread = 10.0, C = 10.000000, Pe = 0.047750\n",
      "Deg = 1, Spread = 10.0, C = 100.000000, Pe = 0.047750\n",
      "Deg = 1, Spread = 10.0, C = 1000.000000, Pe = 0.047750\n",
      "Deg = 1, Spread = 10.0, C = 10000.000000, Pe = 0.047750\n",
      "Deg = 1, Spread = 10.0, C = 100000.000000, Pe = 0.047750\n",
      "Round finished, Pe_min = 0.033000, Cmin = 0.0010 & log(Cmin) = -3.0000\n",
      "Deg = 1, Spread = 2.0, C = 0.000100, Pe = 0.039250\n",
      "Deg = 1, Spread = 2.0, C = 0.000158, Pe = 0.037750\n",
      "Deg = 1, Spread = 2.0, C = 0.000251, Pe = 0.036250\n",
      "Deg = 1, Spread = 2.0, C = 0.000398, Pe = 0.034500\n",
      "Deg = 1, Spread = 2.0, C = 0.000631, Pe = 0.033500\n",
      "Deg = 1, Spread = 2.0, C = 0.001000, Pe = 0.033000\n",
      "Deg = 1, Spread = 2.0, C = 0.001585, Pe = 0.033750\n",
      "Deg = 1, Spread = 2.0, C = 0.002512, Pe = 0.034500\n",
      "Deg = 1, Spread = 2.0, C = 0.003981, Pe = 0.033500\n",
      "Deg = 1, Spread = 2.0, C = 0.006310, Pe = 0.033250\n",
      "Deg = 1, Spread = 2.0, C = 0.010000, Pe = 0.036250\n",
      "Round finished, Pe_min = 0.033000, Cmin = 0.0010 & log(Cmin) = -3.0000\n",
      "For inhomogeneous linear kernel:\n",
      "Best C = 0.001000, where test error = 0.0330 and support vectors = (457, 784)\n",
      "Deg = 2, Spread = 10.0, C = 0.000010, Pe = 0.015000\n",
      "Deg = 2, Spread = 10.0, C = 0.000100, Pe = 0.015000\n",
      "Deg = 2, Spread = 10.0, C = 0.001000, Pe = 0.015000\n",
      "Deg = 2, Spread = 10.0, C = 0.010000, Pe = 0.015000\n",
      "Deg = 2, Spread = 10.0, C = 0.100000, Pe = 0.015000\n",
      "Deg = 2, Spread = 10.0, C = 1.000000, Pe = 0.015000\n",
      "Deg = 2, Spread = 10.0, C = 10.000000, Pe = 0.015000\n",
      "Deg = 2, Spread = 10.0, C = 100.000000, Pe = 0.015000\n",
      "Deg = 2, Spread = 10.0, C = 1000.000000, Pe = 0.015000\n",
      "Deg = 2, Spread = 10.0, C = 10000.000000, Pe = 0.015000\n",
      "Deg = 2, Spread = 10.0, C = 100000.000000, Pe = 0.015000\n",
      "Round finished, Pe_min = 0.015000, Cmin = 0.0000 & log(Cmin) = -5.0000\n",
      "Deg = 2, Spread = 2.0, C = 0.000001, Pe = 0.015000\n",
      "Deg = 2, Spread = 2.0, C = 0.000002, Pe = 0.015000\n",
      "Deg = 2, Spread = 2.0, C = 0.000003, Pe = 0.015000\n",
      "Deg = 2, Spread = 2.0, C = 0.000004, Pe = 0.015000\n",
      "Deg = 2, Spread = 2.0, C = 0.000006, Pe = 0.015000\n",
      "Deg = 2, Spread = 2.0, C = 0.000010, Pe = 0.015000\n",
      "Deg = 2, Spread = 2.0, C = 0.000016, Pe = 0.015000\n",
      "Deg = 2, Spread = 2.0, C = 0.000025, Pe = 0.015000\n",
      "Deg = 2, Spread = 2.0, C = 0.000040, Pe = 0.015000\n",
      "Deg = 2, Spread = 2.0, C = 0.000063, Pe = 0.015000\n",
      "Deg = 2, Spread = 2.0, C = 0.000100, Pe = 0.015000\n",
      "Round finished, Pe_min = 0.015000, Cmin = 0.0000 & log(Cmin) = -6.0000\n",
      "For quadratic kernel:\n",
      "Best C = 0.000001, where test error = 0.0150 and support vectors = (471, 784)\n"
     ]
    }
   ],
   "source": [
    "%run HW03_3a.py"
   ]
  },
  {
   "cell_type": "code",
   "execution_count": 68,
   "metadata": {
    "collapsed": false
   },
   "outputs": [
    {
     "name": "stdout",
     "output_type": "stream",
     "text": [
      "0.03225\n"
     ]
    }
   ],
   "source": [
    "print(np.amin(Pe))"
   ]
  },
  {
   "cell_type": "code",
   "execution_count": 88,
   "metadata": {
    "collapsed": false
   },
   "outputs": [
    {
     "name": "stdout",
     "output_type": "stream",
     "text": [
      "C = 1.000000 and gamma = 0.000000 give Pe = 0.176000\n",
      "C = 1.000000 and gamma = 0.000000 give Pe = 0.037000\n",
      "C = 1.000000 and gamma = 0.000010 give Pe = 0.405250\n",
      "C = 1.000000 and gamma = 0.003162 give Pe = 0.500000\n",
      "C = 1.000000 and gamma = 1.000000 give Pe = 0.500000\n",
      "C = 316.227766 and gamma = 0.000000 give Pe = 0.042500\n",
      "C = 316.227766 and gamma = 0.000000 give Pe = 0.020500\n",
      "C = 316.227766 and gamma = 0.000010 give Pe = 0.389250\n",
      "C = 316.227766 and gamma = 0.003162 give Pe = 0.500000\n",
      "C = 316.227766 and gamma = 1.000000 give Pe = 0.500000\n",
      "C = 100000.000000 and gamma = 0.000000 give Pe = 0.036500\n",
      "C = 100000.000000 and gamma = 0.000000 give Pe = 0.020500\n",
      "C = 100000.000000 and gamma = 0.000010 give Pe = 0.389250\n",
      "C = 100000.000000 and gamma = 0.003162 give Pe = 0.500000\n",
      "C = 100000.000000 and gamma = 1.000000 give Pe = 0.500000\n",
      "C = 31622776.601684 and gamma = 0.000000 give Pe = 0.047250\n",
      "C = 31622776.601684 and gamma = 0.000000 give Pe = 0.020500\n",
      "C = 31622776.601684 and gamma = 0.000010 give Pe = 0.389250\n",
      "C = 31622776.601684 and gamma = 0.003162 give Pe = 0.500000\n",
      "C = 31622776.601684 and gamma = 1.000000 give Pe = 0.500000\n",
      "C = 10000000000.000000 and gamma = 0.000000 give Pe = 0.047250\n",
      "C = 10000000000.000000 and gamma = 0.000000 give Pe = 0.020500\n",
      "C = 10000000000.000000 and gamma = 0.000010 give Pe = 0.389250\n",
      "C = 10000000000.000000 and gamma = 0.003162 give Pe = 0.500000\n",
      "C = 10000000000.000000 and gamma = 1.000000 give Pe = 0.500000\n"
     ]
    }
   ],
   "source": [
    "# Problem 3b: switch to rbf kernel and determine best gamma\n",
    "Xc = np.linspace(0,10,5)\n",
    "C = 10**Xc\n",
    "Xg = np.linspace(-10,0,5)\n",
    "gamma = 10**Xg\n",
    "Pe = np.zeros((len(C),len(C)))\n",
    "for i in range(0,len(C)):\n",
    "    for j in range(0,len(gamma)):\n",
    "        clf = svm.SVC(C[i],kernel='rbf',gamma=gamma[j])\n",
    "        clf.fit(Xfit,yfit)\n",
    "        Pe[i][j]=1-clf.score(Xholdout,yholdout)\n",
    "        print(\"C = %.1f and gamma = %.8f give Pe = %.4f\" % (C[i],gamma[j],Pe[i][j]))"
   ]
  },
  {
   "cell_type": "code",
   "execution_count": 92,
   "metadata": {
    "collapsed": false
   },
   "outputs": [
    {
     "name": "stdout",
     "output_type": "stream",
     "text": [
      "[[ 0.176    0.037    0.40525  0.5      0.5    ]\n",
      " [ 0.0425   0.0205   0.38925  0.5      0.5    ]\n",
      " [ 0.0365   0.0205   0.38925  0.5      0.5    ]\n",
      " [ 0.04725  0.0205   0.38925  0.5      0.5    ]\n",
      " [ 0.04725  0.0205   0.38925  0.5      0.5    ]]\n"
     ]
    }
   ],
   "source": [
    "print(Pe)"
   ]
  },
  {
   "cell_type": "code",
   "execution_count": 97,
   "metadata": {
    "collapsed": false
   },
   "outputs": [
    {
     "name": "stdout",
     "output_type": "stream",
     "text": [
      "Min val = 0.0205 and min arg = 6\n"
     ]
    }
   ],
   "source": [
    "minval = np.amin(Pe)\n",
    "argmin = np.argmin(Pe)\n",
    "print(\"Min val = %.4f and min arg = %d\" % (minval,argmin))"
   ]
  },
  {
   "cell_type": "code",
   "execution_count": 100,
   "metadata": {
    "collapsed": false
   },
   "outputs": [
    {
     "name": "stdout",
     "output_type": "stream",
     "text": [
      "C center = row #1, g center = column #1\n",
      "C center val = 316.227766, g center val = 0.00000003\n"
     ]
    }
   ],
   "source": [
    "Cc = argmin%5\n",
    "gc = argmin-Cc*5\n",
    "print(\"C center = row #%d, g center = column #%d\" % (Cc,gc))\n",
    "print(\"C center val = %.6f, g center val = %.8f\" % (C[Cc],gamma[gc]))"
   ]
  },
  {
   "cell_type": "code",
   "execution_count": 103,
   "metadata": {
    "collapsed": false
   },
   "outputs": [
    {
     "name": "stdout",
     "output_type": "stream",
     "text": [
      "C1 = 17.782794 and gamma1 = 0.000000 give Pe1 = 0.042250\n",
      "C1 = 17.782794 and gamma1 = 0.000000 give Pe1 = 0.033750\n",
      "C1 = 17.782794 and gamma1 = 0.000000 give Pe1 = 0.024000\n",
      "C1 = 17.782794 and gamma1 = 0.000000 give Pe1 = 0.015500\n",
      "C1 = 17.782794 and gamma1 = 0.000001 give Pe1 = 0.012250\n",
      "C1 = 74.989421 and gamma1 = 0.000000 give Pe1 = 0.036000\n",
      "C1 = 74.989421 and gamma1 = 0.000000 give Pe1 = 0.029500\n",
      "C1 = 74.989421 and gamma1 = 0.000000 give Pe1 = 0.020750\n",
      "C1 = 74.989421 and gamma1 = 0.000000 give Pe1 = 0.016250\n",
      "C1 = 74.989421 and gamma1 = 0.000001 give Pe1 = 0.012250\n",
      "C1 = 316.227766 and gamma1 = 0.000000 give Pe1 = 0.032750\n",
      "C1 = 316.227766 and gamma1 = 0.000000 give Pe1 = 0.027500\n",
      "C1 = 316.227766 and gamma1 = 0.000000 give Pe1 = 0.020500\n",
      "C1 = 316.227766 and gamma1 = 0.000000 give Pe1 = 0.016250\n",
      "C1 = 316.227766 and gamma1 = 0.000001 give Pe1 = 0.012250\n",
      "C1 = 1333.521432 and gamma1 = 0.000000 give Pe1 = 0.031250\n",
      "C1 = 1333.521432 and gamma1 = 0.000000 give Pe1 = 0.024500\n",
      "C1 = 1333.521432 and gamma1 = 0.000000 give Pe1 = 0.020500\n",
      "C1 = 1333.521432 and gamma1 = 0.000000 give Pe1 = 0.016250\n",
      "C1 = 1333.521432 and gamma1 = 0.000001 give Pe1 = 0.012250\n",
      "C1 = 5623.413252 and gamma1 = 0.000000 give Pe1 = 0.030000\n",
      "C1 = 5623.413252 and gamma1 = 0.000000 give Pe1 = 0.024500\n",
      "C1 = 5623.413252 and gamma1 = 0.000000 give Pe1 = 0.020500\n",
      "C1 = 5623.413252 and gamma1 = 0.000000 give Pe1 = 0.016250\n",
      "C1 = 5623.413252 and gamma1 = 0.000001 give Pe1 = 0.012250\n"
     ]
    }
   ],
   "source": [
    "R_Cc = math.log(C[Cc],10)\n",
    "R_gc = math.log(gamma[gc],10)\n",
    "Xc1 = np.linspace(R_Cc-1.25,R_Cc+1.25,5)\n",
    "C1 = 10**Xc1\n",
    "Xg1 = np.linspace(R_gc-1.25,R_gc+1.25,5)\n",
    "gamma1 = 10**Xg1\n",
    "Pe1 = np.zeros((len(C1),len(C1)))\n",
    "for i in range(0,len(C1)):\n",
    "    for j in range(0,len(gamma1)):\n",
    "        clf = svm.SVC(C1[i],kernel='rbf',gamma=gamma1[j])\n",
    "        clf.fit(Xfit,yfit)\n",
    "        Pe1[i][j]=1-clf.score(Xholdout,yholdout)\n",
    "        print(\"C1 = %.6f and gamma1 = %.6f give Pe1 = %.6f\" % (C1[i],gamma1[j],Pe1[i][j]))"
   ]
  },
  {
   "cell_type": "code",
   "execution_count": 107,
   "metadata": {
    "collapsed": false
   },
   "outputs": [
    {
     "name": "stdout",
     "output_type": "stream",
     "text": [
      "[[ 0.04225  0.03375  0.024    0.0155   0.01225]\n",
      " [ 0.036    0.0295   0.02075  0.01625  0.01225]\n",
      " [ 0.03275  0.0275   0.0205   0.01625  0.01225]\n",
      " [ 0.03125  0.0245   0.0205   0.01625  0.01225]\n",
      " [ 0.03     0.0245   0.0205   0.01625  0.01225]]\n",
      "Min val = 0.0122 and min arg = 4\n",
      "C center = row #0, g center = column #4\n",
      "C center val = 17.782794, g center val = 0.00000056\n"
     ]
    }
   ],
   "source": [
    "print(Pe1)\n",
    "minval1 = np.amin(Pe1)\n",
    "argmin1 = np.argmin(Pe1)\n",
    "print(\"Min val = %.4f and min arg = %d\" % (minval1,argmin1))\n",
    "if(argmin1<5): Cc1 = 0\n",
    "else: Cc1 = argmin1%5\n",
    "gc1 = argmin1-Cc1*5\n",
    "print(\"C center = row #%d, g center = column #%d\" % (Cc1,gc1))\n",
    "print(\"C center val = %.6f, g center val = %.8f\" % (C1[Cc1],gamma1[gc1]))"
   ]
  },
  {
   "cell_type": "code",
   "execution_count": 108,
   "metadata": {
    "collapsed": false
   },
   "outputs": [
    {
     "name": "stdout",
     "output_type": "stream",
     "text": [
      "C2 = 17.782794 and gamma2 = 0.000001 give Pe2 = 0.012250\n",
      "C2 = 17.782794 and gamma2 = 0.000001 give Pe2 = 0.012250\n",
      "C2 = 17.782794 and gamma2 = 0.000001 give Pe2 = 0.012250\n",
      "C2 = 17.782794 and gamma2 = 0.000001 give Pe2 = 0.012250\n",
      "C2 = 17.782794 and gamma2 = 0.000001 give Pe2 = 0.012250\n",
      "C2 = 17.782794 and gamma2 = 0.000001 give Pe2 = 0.012250\n",
      "C2 = 17.782794 and gamma2 = 0.000001 give Pe2 = 0.012250\n",
      "C2 = 17.782794 and gamma2 = 0.000001 give Pe2 = 0.012250\n",
      "C2 = 17.782794 and gamma2 = 0.000001 give Pe2 = 0.012250\n",
      "C2 = 17.782794 and gamma2 = 0.000001 give Pe2 = 0.012250\n",
      "C2 = 17.782794 and gamma2 = 0.000001 give Pe2 = 0.012250\n",
      "C2 = 17.782794 and gamma2 = 0.000001 give Pe2 = 0.012250\n",
      "C2 = 17.782794 and gamma2 = 0.000001 give Pe2 = 0.012250\n",
      "C2 = 17.782794 and gamma2 = 0.000001 give Pe2 = 0.012250\n",
      "C2 = 17.782794 and gamma2 = 0.000001 give Pe2 = 0.012250\n",
      "C2 = 17.782794 and gamma2 = 0.000001 give Pe2 = 0.012250\n",
      "C2 = 17.782794 and gamma2 = 0.000001 give Pe2 = 0.012250\n",
      "C2 = 17.782794 and gamma2 = 0.000001 give Pe2 = 0.012250\n",
      "C2 = 17.782794 and gamma2 = 0.000001 give Pe2 = 0.012250\n",
      "C2 = 17.782794 and gamma2 = 0.000001 give Pe2 = 0.012250\n",
      "C2 = 17.782794 and gamma2 = 0.000001 give Pe2 = 0.012250\n",
      "C2 = 17.782794 and gamma2 = 0.000001 give Pe2 = 0.012250\n",
      "C2 = 17.782794 and gamma2 = 0.000001 give Pe2 = 0.012250\n",
      "C2 = 17.782794 and gamma2 = 0.000001 give Pe2 = 0.012250\n",
      "C2 = 17.782794 and gamma2 = 0.000001 give Pe2 = 0.012250\n",
      "[[ 0.01225  0.01225  0.01225  0.01225  0.01225]\n",
      " [ 0.01225  0.01225  0.01225  0.01225  0.01225]\n",
      " [ 0.01225  0.01225  0.01225  0.01225  0.01225]\n",
      " [ 0.01225  0.01225  0.01225  0.01225  0.01225]\n",
      " [ 0.01225  0.01225  0.01225  0.01225  0.01225]]\n",
      "Min val = 0.0122 and min arg = 0\n",
      "C center = row #0, g center = column #0\n",
      "C center val = 17.782794, g center val = 0.00000056\n"
     ]
    }
   ],
   "source": [
    "R_Cc1 = math.log(C1[Cc1],10)\n",
    "R_gc1 = math.log(gamma1[gc1],10)\n",
    "Xc2 = np.linspace(R_Cc1-5/16,R_Cc1+5/16,5)\n",
    "C2 = 10**Xc2\n",
    "Xg2 = np.linspace(R_gc1-5/16,R_gc1+5/16,5)\n",
    "gamma2 = 10**Xg2\n",
    "Pe2 = np.zeros((len(C2),len(C2)))\n",
    "for i in range(0,len(C2)):\n",
    "    for j in range(0,len(gamma2)):\n",
    "        clf = svm.SVC(C2[i],kernel='rbf',gamma=gamma2[j])\n",
    "        clf.fit(Xfit,yfit)\n",
    "        Pe2[i][j]=1-clf.score(Xholdout,yholdout)\n",
    "        print(\"C2 = %.6f and gamma2 = %.6f give Pe2 = %.6f\" % (C2[i],gamma2[j],Pe2[i][j]))\n",
    "print(Pe2)\n",
    "minval2 = np.amin(Pe2)\n",
    "argmin2 = np.argmin(Pe2)\n",
    "print(\"Min val = %.4f and min arg = %d\" % (minval2,argmin2))\n",
    "if(argmin2<5): Cc2 = 0\n",
    "else: Cc2 = argmin2%5\n",
    "gc2 = argmin2-Cc2*5\n",
    "print(\"C center = row #%d, g center = column #%d\" % (Cc2,gc2))\n",
    "print(\"C center val = %.6f, g center val = %.8f\" % (C2[Cc2],gamma2[gc2]))"
   ]
  },
  {
   "cell_type": "code",
   "execution_count": null,
   "metadata": {
    "collapsed": false,
    "scrolled": true
   },
   "outputs": [
    {
     "data": {
      "image/png": "[encoded data removed]",
      "text/plain": [
       "<matplotlib.figure.Figure at 0xadbc3bcc>"
      ]
     },
     "metadata": {},
     "output_type": "display_data"
    },
    {
     "name": "stdout",
     "output_type": "stream",
     "text": [
      "X is 70000 x 784 and Y is 70000 x 1\n",
      "Deg = 1, Spread = 10.0, C = 0.000010, Pe = 0.055000\n",
      "Deg = 1, Spread = 10.0, C = 0.000100, Pe = 0.039250\n"
     ]
    }
   ],
   "source": [
    "%run HW03_3a.py"
   ]
  },
  {
   "cell_type": "code",
   "execution_count": 127,
   "metadata": {
    "collapsed": false
   },
   "outputs": [
    {
     "name": "stdout",
     "output_type": "stream",
     "text": [
      "(0.020499999999999963, 4, 5, 2.5, 316.22776601683796, -8.5)\n",
      "True\n"
     ]
    }
   ],
   "source": [
    "print(minval, argmin, n, R_Cc,Cc,argmin-R_Cc*n)\n",
    "print(argmin<n)"
   ]
  },
  {
   "cell_type": "code",
   "execution_count": null,
   "metadata": {
    "collapsed": true
   },
   "outputs": [],
   "source": [
    "print(clf.support_vectors_.ship)"
   ]
  }
 ],
 "metadata": {
  "anaconda-cloud": {},
  "kernelspec": {
   "display_name": "Python [default]",
   "language": "python",
   "name": "python2"
  },
  "language_info": {
   "codemirror_mode": {
    "name": "ipython",
    "version": 2
   },
   "file_extension": ".py",
   "mimetype": "text/x-python",
   "name": "python",
   "nbconvert_exporter": "python",
   "pygments_lexer": "ipython2",
   "version": "2.7.12"
  }
 },
 "nbformat": 4,
 "nbformat_minor": 2
}
